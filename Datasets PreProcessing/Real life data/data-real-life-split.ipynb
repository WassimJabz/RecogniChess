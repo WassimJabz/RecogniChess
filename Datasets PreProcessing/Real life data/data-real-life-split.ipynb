{
 "cells": [
  {
   "attachments": {},
   "cell_type": "markdown",
   "metadata": {},
   "source": [
    "# Imports"
   ]
  },
  {
   "cell_type": "code",
   "execution_count": 73,
   "metadata": {},
   "outputs": [],
   "source": [
    "import matplotlib.pyplot as plt\n",
    "import torch\n",
    "import random  \n",
    "import numpy as np\n",
    "import json\n",
    "from sklearn.model_selection import train_test_split\n",
    "import torch\n",
    "import cv2"
   ]
  },
  {
   "attachments": {},
   "cell_type": "markdown",
   "metadata": {},
   "source": [
    "# Code"
   ]
  },
  {
   "attachments": {},
   "cell_type": "markdown",
   "metadata": {},
   "source": [
    "Set the paths and import the label array"
   ]
  },
  {
   "cell_type": "code",
   "execution_count": 74,
   "metadata": {},
   "outputs": [
    {
     "name": "stdout",
     "output_type": "stream",
     "text": [
      "Labels loaded\n",
      "Number of images:  32000\n"
     ]
    }
   ],
   "source": [
    "# Define the path to the folder containing the images and labels\n",
    "path = \"../../Datasets/Real life data/\"\n",
    "\n",
    "# Load the labels from the tensor file\n",
    "labels = torch.load(path+'y_real_life.pt')\n",
    "\n",
    "print(\"Labels loaded\")\n",
    "print(\"Number of images: \", len(labels))"
   ]
  },
  {
   "attachments": {},
   "cell_type": "markdown",
   "metadata": {},
   "source": [
    "We now plot the distribution of the real life data. We save the class distirbutions in a JSON file to be able to easily plot them later if necessary. We expect a lot of empty squares in the data."
   ]
  },
  {
   "cell_type": "code",
   "execution_count": 75,
   "metadata": {},
   "outputs": [
    {
     "name": "stdout",
     "output_type": "stream",
     "text": [
      "Class distribution saved to class_distribution.json\n",
      "{'full': {'Empty': 22445, 'White pawn': 2452, 'White knight': 489, 'White bishop': 586, 'White rook': 641, 'White queen': 291, 'White king': 500, 'Black pawn': 2103, 'Black knight': 401, 'Black bishop': 653, 'Black rook': 609, 'Black queen': 330, 'Black king': 500}}\n"
     ]
    }
   ],
   "source": [
    "# Define the class_names dictionary\n",
    "class_names = {\n",
    "    0: 'Empty', 1: 'White pawn', 2: 'White knight', 3: 'White bishop', 4: 'White rook',\n",
    "    5: 'White queen', 6: 'White king', 7: 'Black pawn', 8: 'Black knight', 9: 'Black bishop',\n",
    "    10: 'Black rook', 11: 'Black queen', 12: 'Black king'\n",
    "}\n",
    "\n",
    "# Compute the class distribution\n",
    "class_distribution_dict = {}\n",
    "class_distributions = {}\n",
    "for label in sorted(labels):\n",
    "    class_name = class_names[label.item()]\n",
    "    class_distributions[class_name] = class_distributions.get(class_name, 0) + 1\n",
    "class_distribution_dict[\"full\"] = class_distributions\n",
    "\n",
    "# Save the class distribution to a JSON file\n",
    "json_file = \"class_distribution.json\"\n",
    "with open(json_file, 'w') as f:\n",
    "    json.dump(class_distribution_dict, f)\n",
    "\n",
    "print(\"Class distribution saved to\", json_file)\n",
    "print(class_distribution_dict)"
   ]
  },
  {
   "attachments": {},
   "cell_type": "markdown",
   "metadata": {},
   "source": [
    "We now use the computed class distribution and plot them on a histogram. We can see that the data is very unbalanced. We will now remove empty squares from the training set to rebalance the data."
   ]
  },
  {
   "cell_type": "code",
   "execution_count": 76,
   "metadata": {},
   "outputs": [],
   "source": [
    "def plot_class_distribution(class_distribution, save=True):\n",
    "    # Extract class names and frequencies from the JSON data\n",
    "    class_names = list(class_distribution.keys())\n",
    "    frequencies = list(class_distribution.values())\n",
    "\n",
    "    # Calculate the total count\n",
    "    total_count = sum(frequencies)\n",
    "\n",
    "    # Calculate the percentage for each frequency\n",
    "    percentages = [count / total_count * 100 for count in frequencies]\n",
    "\n",
    "    # Create a bar plot\n",
    "    plt.figure(figsize=(12, 6))\n",
    "    bars = plt.bar(class_names, frequencies)\n",
    "    plt.xlabel(\"Class\")\n",
    "    plt.ylabel(\"Frequency\")\n",
    "    plt.title(\"Class Distribution\")\n",
    "    plt.xticks(rotation=90)\n",
    "\n",
    "    # Add the percentage labels to the bars\n",
    "    for i, bar in enumerate(bars):\n",
    "        height = bar.get_height()\n",
    "        plt.text(bar.get_x() + bar.get_width() / 2, height, f\"{percentages[i]:.2f}%\", ha='center', va='bottom')\n",
    "\n",
    "    # Display & save the plot\n",
    "    plt.tight_layout()\n",
    "    if save:\n",
    "        plt.savefig(\"../../Resources/Pre-processing/target_domain_distribution.jpg\")"
   ]
  },
  {
   "cell_type": "code",
   "execution_count": 77,
   "metadata": {},
   "outputs": [
    {
     "data": {
      "image/png": "[encoded data removed]",
      "text/plain": [
       "<Figure size 864x432 with 1 Axes>"
      ]
     },
     "metadata": {
      "needs_background": "light"
     },
     "output_type": "display_data"
    }
   ],
   "source": [
    "# Load the class ditribution from the JSON file\n",
    "with open(\"class_distribution.json\", \"r\") as f:\n",
    "    class_distribution = json.load(f)\n",
    "    \n",
    "plot_class_distribution(class_distribution[\"full\"])"
   ]
  },
  {
   "attachments": {},
   "cell_type": "markdown",
   "metadata": {},
   "source": [
    "Based on the histogram, it is evident that empty squares make up the majority, comprising about 70% of the images. Moreover, and as expected, pawns have the highest proportion among the chess pieces (around 13% in total). Additionally, the proportion of white and black pieces is similar for each piece. For instance, the proportion of the white queen is 0.91%, while that of the black queen is 1.03%."
   ]
  },
  {
   "attachments": {},
   "cell_type": "markdown",
   "metadata": {},
   "source": [
    "In this context, the imbalance in the data due to the abundance of empty squares may cause the model to have a bias towards identifying empty squares rather than chess pieces. To mitigate this issue, a pre-processing step is suggested, which involves creating a sampler when loading the data which takes into account the class propotions. This helps to improve the focus of the model on recognizing chess pieces rather than empty squares, which may not contain any useful information for the classification task. Additionally, too many empty squares may hinder domain adaptation since empty squares are similar across both domains. Furthermore, since empty squares are easy to recognize, their over-representation may lead the model to overfit to empty squares rather than the task of identifying chess pieces. This step is implemented in the Custom_Dataset.py file in the Datasets folder."
   ]
  },
  {
   "attachments": {},
   "cell_type": "markdown",
   "metadata": {},
   "source": [
    "# Saving the full Real Life Dataset splitted into train, validation and test sets"
   ]
  },
  {
   "attachments": {},
   "cell_type": "markdown",
   "metadata": {},
   "source": [
    "We first split the full real life dataset into train, validation and test sets. We keep all images in the same folder and we create three JSON files (one for each set) that contain the paths to the images in each set. Each JSON file has the name of the images as keys and the corresponding label as values. We save the JSON files in \"Datasets/Real Life Data\"."
   ]
  },
  {
   "cell_type": "code",
   "execution_count": 78,
   "metadata": {},
   "outputs": [
    {
     "name": "stdout",
     "output_type": "stream",
     "text": [
      "Training set size: 28512\n",
      "Validation set size: 320\n",
      "Testing set size: 3168\n"
     ]
    }
   ],
   "source": [
    "# Set the seed for reproducibility\n",
    "np.random.seed(50)\n",
    "\n",
    "# Number of images\n",
    "num_images = labels.shape[0]\n",
    "\n",
    "# Generate indices for shuffling\n",
    "square_indices = np.arange(num_images)\n",
    "\n",
    "# Extract 5 positions from the dataset and assume they were manually labelled (ie the labels are available for those)\n",
    "# Because, in this case, real data is assumed to unlabelled, our validation set consists of 5 positions labelled manually\n",
    "# This amounts to 5 * 64 = 320 images of individual squares, which is a reasonable amount of positions to ask a user to label manually\n",
    "# This is done just for the purposes of having a dataset to perform hyperparameter tuning on\n",
    "# Because we would like positions where squares are mostly full, we query the dataset and only sample images with at least 28 pieces on the board\n",
    "\n",
    "# Extract 5 positions with more than 28 pieces on the board, shuffling the positions first to ensure none are from the same game\n",
    "# This leads to different lighting brightnesses and angles for each position\n",
    "val_positions_indices = [] \n",
    "position_indices = np.random.permutation(num_images // 64)\n",
    "for position_index in position_indices:\n",
    "    # A label of 0 corresponds to an empty square\n",
    "    if (labels[position_index*64:(position_index+1)*64] != 0).sum() >= 28:\n",
    "        val_positions_indices.append(position_index)\n",
    "        if len(val_positions_indices) == 5:\n",
    "            break\n",
    "        \n",
    "if len(val_positions_indices) < 5:\n",
    "    raise Exception(\"Not enough positions with at least 28 pieces on the board\")\n",
    "\n",
    "# Extract the indices of the square images corresponding to the 5 positions and remove them from the square index array\n",
    "val_indices = []\n",
    "for val_position_index in val_positions_indices:\n",
    "    val_indices.extend(square_indices[val_position_index*64:(val_position_index+1)*64])\n",
    "\n",
    "# Delete the indices of the square images corresponding to the 5 positions from the square index array IN REVERSE ORDER\n",
    "# This is done in reverse order to ensure that deleting previous indices does not affect subsequent indices\n",
    "for val_position_index in sorted(val_positions_indices, reverse=True):\n",
    "    square_indices = np.delete(square_indices, np.s_[val_position_index*64:(val_position_index+1)*64])\n",
    "\n",
    "# Split the indices into training and testing sets (90% and 10% respectively)\n",
    "train_indices, test_indices = train_test_split(square_indices, test_size=0.1, random_state=50, shuffle=True)\n",
    "\n",
    "# Create dictionaries to store the image names for each set\n",
    "train_set = {\"train\": [], \"label\": []}\n",
    "val_set = {\"validation\": [], \"label\": []}\n",
    "test_set = {\"test\": [], \"label\": []}\n",
    "\n",
    "# Iterate over the indices and assign image names to the corresponding sets\n",
    "for index in train_indices:\n",
    "    image_name = f\"EX_{str(index).zfill(6)}.png\"\n",
    "    train_set[\"train\"].append(image_name)\n",
    "    train_set[\"label\"].append(labels[index].item())\n",
    "\n",
    "for index in val_indices:\n",
    "    image_name = f\"EX_{str(index).zfill(6)}.png\"\n",
    "    val_set[\"validation\"].append(image_name)\n",
    "    val_set[\"label\"].append(labels[index].item())\n",
    "\n",
    "for index in test_indices:\n",
    "    image_name = f\"EX_{str(index).zfill(6)}.png\"\n",
    "    test_set[\"test\"].append(image_name)\n",
    "    test_set[\"label\"].append(labels[index].item())\n",
    "\n",
    "# Save the sets as JSON files\n",
    "with open(path+\"train_full_real_life_data.json\", \"w\") as train_file:\n",
    "    json.dump(train_set, train_file)\n",
    "\n",
    "with open(path+\"validation_full_real_life_data.json\", \"w\") as val_file:\n",
    "    json.dump(val_set, val_file)\n",
    "\n",
    "with open(path+\"test_full_real_life_data.json\", \"w\") as test_file:\n",
    "    json.dump(test_set, test_file)\n",
    "\n",
    "# Print the size of each set\n",
    "print(\"Training set size:\", len(train_set[\"train\"]))\n",
    "print(\"Validation set size:\", len(val_set[\"validation\"]))\n",
    "print(\"Testing set size:\", len(test_set[\"test\"]))"
   ]
  },
  {
   "attachments": {},
   "cell_type": "markdown",
   "metadata": {},
   "source": [
    "Re-compute the class distributions in each of the train, validation, and test sets."
   ]
  },
  {
   "cell_type": "code",
   "execution_count": 79,
   "metadata": {},
   "outputs": [
    {
     "name": "stdout",
     "output_type": "stream",
     "text": [
      "{'full': {'Empty': 22445, 'White pawn': 2452, 'White knight': 489, 'White bishop': 586, 'White rook': 641, 'White queen': 291, 'White king': 500, 'Black pawn': 2103, 'Black knight': 401, 'Black bishop': 653, 'Black rook': 609, 'Black queen': 330, 'Black king': 500}, 'train': {'Empty': 20037, 'White pawn': 2166, 'White knight': 426, 'White bishop': 530, 'White rook': 572, 'White queen': 253, 'White king': 443, 'Black pawn': 1873, 'Black knight': 348, 'Black bishop': 581, 'Black rook': 540, 'Black queen': 297, 'Black king': 446}, 'validation': {'Empty': 165, 'White pawn': 38, 'White knight': 10, 'White bishop': 10, 'White rook': 10, 'White queen': 5, 'White king': 5, 'Black pawn': 37, 'Black knight': 10, 'Black bishop': 10, 'Black rook': 10, 'Black queen': 5, 'Black king': 5}, 'test': {'Empty': 2243, 'White pawn': 248, 'White knight': 53, 'White bishop': 46, 'White rook': 59, 'White queen': 33, 'White king': 52, 'Black pawn': 193, 'Black knight': 43, 'Black bishop': 62, 'Black rook': 59, 'Black queen': 28, 'Black king': 49}}\n"
     ]
    }
   ],
   "source": [
    "json_file = \"class_distribution.json\"\n",
    "\n",
    "def sort_and_return(list):\n",
    "    list.sort()\n",
    "    return list\n",
    "\n",
    "# Extract the frequency of each class\n",
    "class_distributions_train = {}\n",
    "for label in sort_and_return(train_set[\"label\"]):\n",
    "    class_name = class_names[label]\n",
    "    class_distributions_train[class_name] = class_distributions_train.get(class_name, 0) + 1\n",
    "class_distribution_dict[\"train\"] = class_distributions_train\n",
    "\n",
    "class_distributions_val = {}\n",
    "for label in sort_and_return(val_set[\"label\"]):\n",
    "    class_name = class_names[label]\n",
    "    class_distributions_val[class_name] = class_distributions_val.get(class_name, 0) + 1\n",
    "class_distribution_dict[\"validation\"] = class_distributions_val\n",
    "\n",
    "class_distributions_test = {}\n",
    "for label in sort_and_return(test_set[\"label\"]):\n",
    "    class_name = class_names[label]\n",
    "    class_distributions_test[class_name] = class_distributions_test.get(class_name, 0) + 1\n",
    "class_distribution_dict[\"test\"] = class_distributions_test\n",
    "\n",
    "# Overwrite the distribution json file\n",
    "with open(json_file, 'w') as f:\n",
    "    f.seek(0)\n",
    "    json.dump(class_distribution_dict, f)\n",
    "\n",
    "# Sanity check\n",
    "print(class_distribution_dict)"
   ]
  },
  {
   "attachments": {},
   "cell_type": "markdown",
   "metadata": {},
   "source": [
    "We can now visualize the validation set's distribution to ensure that we got a good proportion of each piece type."
   ]
  },
  {
   "cell_type": "code",
   "execution_count": 80,
   "metadata": {},
   "outputs": [
    {
     "data": {
      "image/png": "[encoded data removed]",
      "text/plain": [
       "<Figure size 864x432 with 1 Axes>"
      ]
     },
     "metadata": {
      "needs_background": "light"
     },
     "output_type": "display_data"
    }
   ],
   "source": [
    "# Load the class ditribution from the JSON file\n",
    "with open(\"class_distribution.json\", \"r\") as f:\n",
    "    class_distribution = json.load(f)\n",
    "\n",
    "plot_class_distribution(class_distribution[\"validation\"], save=False)"
   ]
  }
 ],
 "metadata": {
  "kernelspec": {
   "display_name": "myenv",
   "language": "python",
   "name": "python3"
  },
  "language_info": {
   "codemirror_mode": {
    "name": "ipython",
    "version": 3
   },
   "file_extension": ".py",
   "mimetype": "text/x-python",
   "name": "python",
   "nbconvert_exporter": "python",
   "pygments_lexer": "ipython3",
   "version": "3.10.2"
  },
  "orig_nbformat": 4
 },
 "nbformat": 4,
 "nbformat_minor": 2
}
